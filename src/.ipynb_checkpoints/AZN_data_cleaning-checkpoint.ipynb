{
 "cells": [
  {
   "cell_type": "code",
   "execution_count": 5,
   "metadata": {},
   "outputs": [],
   "source": [
    "import pandas as pd\n",
    "from datetime import datetime"
   ]
  },
  {
   "cell_type": "code",
   "execution_count": 3,
   "metadata": {},
   "outputs": [],
   "source": [
    "#Reading in data\n",
    "\n",
    "azn = pd.read_csv('data/AZN_1d.csv')"
   ]
  },
  {
   "cell_type": "code",
   "execution_count": 4,
   "metadata": {},
   "outputs": [
    {
     "data": {
      "text/html": [
       "<div>\n",
       "<style scoped>\n",
       "    .dataframe tbody tr th:only-of-type {\n",
       "        vertical-align: middle;\n",
       "    }\n",
       "\n",
       "    .dataframe tbody tr th {\n",
       "        vertical-align: top;\n",
       "    }\n",
       "\n",
       "    .dataframe thead th {\n",
       "        text-align: right;\n",
       "    }\n",
       "</style>\n",
       "<table border=\"1\" class=\"dataframe\">\n",
       "  <thead>\n",
       "    <tr style=\"text-align: right;\">\n",
       "      <th></th>\n",
       "      <th>time</th>\n",
       "      <th>open</th>\n",
       "      <th>high</th>\n",
       "      <th>low</th>\n",
       "      <th>close</th>\n",
       "    </tr>\n",
       "  </thead>\n",
       "  <tbody>\n",
       "    <tr>\n",
       "      <th>0</th>\n",
       "      <td>1238506200</td>\n",
       "      <td>17.375</td>\n",
       "      <td>17.870005</td>\n",
       "      <td>17.110000</td>\n",
       "      <td>17.725000</td>\n",
       "    </tr>\n",
       "    <tr>\n",
       "      <th>1</th>\n",
       "      <td>1238592600</td>\n",
       "      <td>17.295</td>\n",
       "      <td>17.970000</td>\n",
       "      <td>17.235000</td>\n",
       "      <td>17.949995</td>\n",
       "    </tr>\n",
       "    <tr>\n",
       "      <th>2</th>\n",
       "      <td>1238679000</td>\n",
       "      <td>17.875</td>\n",
       "      <td>18.115000</td>\n",
       "      <td>17.699995</td>\n",
       "      <td>17.730005</td>\n",
       "    </tr>\n",
       "    <tr>\n",
       "      <th>3</th>\n",
       "      <td>1238765400</td>\n",
       "      <td>17.805</td>\n",
       "      <td>17.870005</td>\n",
       "      <td>17.339995</td>\n",
       "      <td>17.470000</td>\n",
       "    </tr>\n",
       "    <tr>\n",
       "      <th>4</th>\n",
       "      <td>1239024600</td>\n",
       "      <td>17.475</td>\n",
       "      <td>17.735000</td>\n",
       "      <td>17.339995</td>\n",
       "      <td>17.560000</td>\n",
       "    </tr>\n",
       "  </tbody>\n",
       "</table>\n",
       "</div>"
      ],
      "text/plain": [
       "         time    open       high        low      close\n",
       "0  1238506200  17.375  17.870005  17.110000  17.725000\n",
       "1  1238592600  17.295  17.970000  17.235000  17.949995\n",
       "2  1238679000  17.875  18.115000  17.699995  17.730005\n",
       "3  1238765400  17.805  17.870005  17.339995  17.470000\n",
       "4  1239024600  17.475  17.735000  17.339995  17.560000"
      ]
     },
     "execution_count": 4,
     "metadata": {},
     "output_type": "execute_result"
    }
   ],
   "source": [
    "azn.head()"
   ]
  },
  {
   "cell_type": "code",
   "execution_count": 15,
   "metadata": {},
   "outputs": [],
   "source": [
    "#Convert time column from unix timestamp to regular time\n",
    "\n",
    "azn['time'] = [datetime.utcfromtimestamp(time).strftime('%Y-%m-%d %H:%M:%S') for time in azn['time']]"
   ]
  },
  {
   "cell_type": "code",
   "execution_count": 18,
   "metadata": {},
   "outputs": [
    {
     "data": {
      "text/html": [
       "<div>\n",
       "<style scoped>\n",
       "    .dataframe tbody tr th:only-of-type {\n",
       "        vertical-align: middle;\n",
       "    }\n",
       "\n",
       "    .dataframe tbody tr th {\n",
       "        vertical-align: top;\n",
       "    }\n",
       "\n",
       "    .dataframe thead th {\n",
       "        text-align: right;\n",
       "    }\n",
       "</style>\n",
       "<table border=\"1\" class=\"dataframe\">\n",
       "  <thead>\n",
       "    <tr style=\"text-align: right;\">\n",
       "      <th></th>\n",
       "      <th>time</th>\n",
       "      <th>open</th>\n",
       "      <th>high</th>\n",
       "      <th>low</th>\n",
       "      <th>close</th>\n",
       "    </tr>\n",
       "  </thead>\n",
       "  <tbody>\n",
       "    <tr>\n",
       "      <th>0</th>\n",
       "      <td>2009-03-31 13:30:00</td>\n",
       "      <td>17.375</td>\n",
       "      <td>17.870005</td>\n",
       "      <td>17.110000</td>\n",
       "      <td>17.725000</td>\n",
       "    </tr>\n",
       "    <tr>\n",
       "      <th>1</th>\n",
       "      <td>2009-04-01 13:30:00</td>\n",
       "      <td>17.295</td>\n",
       "      <td>17.970000</td>\n",
       "      <td>17.235000</td>\n",
       "      <td>17.949995</td>\n",
       "    </tr>\n",
       "    <tr>\n",
       "      <th>2</th>\n",
       "      <td>2009-04-02 13:30:00</td>\n",
       "      <td>17.875</td>\n",
       "      <td>18.115000</td>\n",
       "      <td>17.699995</td>\n",
       "      <td>17.730005</td>\n",
       "    </tr>\n",
       "    <tr>\n",
       "      <th>3</th>\n",
       "      <td>2009-04-03 13:30:00</td>\n",
       "      <td>17.805</td>\n",
       "      <td>17.870005</td>\n",
       "      <td>17.339995</td>\n",
       "      <td>17.470000</td>\n",
       "    </tr>\n",
       "    <tr>\n",
       "      <th>4</th>\n",
       "      <td>2009-04-06 13:30:00</td>\n",
       "      <td>17.475</td>\n",
       "      <td>17.735000</td>\n",
       "      <td>17.339995</td>\n",
       "      <td>17.560000</td>\n",
       "    </tr>\n",
       "  </tbody>\n",
       "</table>\n",
       "</div>"
      ],
      "text/plain": [
       "                  time    open       high        low      close\n",
       "0  2009-03-31 13:30:00  17.375  17.870005  17.110000  17.725000\n",
       "1  2009-04-01 13:30:00  17.295  17.970000  17.235000  17.949995\n",
       "2  2009-04-02 13:30:00  17.875  18.115000  17.699995  17.730005\n",
       "3  2009-04-03 13:30:00  17.805  17.870005  17.339995  17.470000\n",
       "4  2009-04-06 13:30:00  17.475  17.735000  17.339995  17.560000"
      ]
     },
     "execution_count": 18,
     "metadata": {},
     "output_type": "execute_result"
    }
   ],
   "source": [
    "azn.head()"
   ]
  },
  {
   "cell_type": "code",
   "execution_count": 20,
   "metadata": {},
   "outputs": [],
   "source": [
    "#Get rid of 13:30:00 since it's the same in every ro\n",
    "\n",
    "azn['time'] = [time.split(' ')[0] for time in azn['time']]"
   ]
  },
  {
   "cell_type": "code",
   "execution_count": 23,
   "metadata": {},
   "outputs": [],
   "source": [
    "#Rename time to date\n",
    "\n",
    "azn.rename(columns = {'time' : 'date'}, inplace = True)"
   ]
  },
  {
   "cell_type": "code",
   "execution_count": 24,
   "metadata": {},
   "outputs": [
    {
     "data": {
      "text/html": [
       "<div>\n",
       "<style scoped>\n",
       "    .dataframe tbody tr th:only-of-type {\n",
       "        vertical-align: middle;\n",
       "    }\n",
       "\n",
       "    .dataframe tbody tr th {\n",
       "        vertical-align: top;\n",
       "    }\n",
       "\n",
       "    .dataframe thead th {\n",
       "        text-align: right;\n",
       "    }\n",
       "</style>\n",
       "<table border=\"1\" class=\"dataframe\">\n",
       "  <thead>\n",
       "    <tr style=\"text-align: right;\">\n",
       "      <th></th>\n",
       "      <th>date</th>\n",
       "      <th>open</th>\n",
       "      <th>high</th>\n",
       "      <th>low</th>\n",
       "      <th>close</th>\n",
       "    </tr>\n",
       "  </thead>\n",
       "  <tbody>\n",
       "    <tr>\n",
       "      <th>0</th>\n",
       "      <td>2009-03-31</td>\n",
       "      <td>17.375</td>\n",
       "      <td>17.870005</td>\n",
       "      <td>17.110000</td>\n",
       "      <td>17.725000</td>\n",
       "    </tr>\n",
       "    <tr>\n",
       "      <th>1</th>\n",
       "      <td>2009-04-01</td>\n",
       "      <td>17.295</td>\n",
       "      <td>17.970000</td>\n",
       "      <td>17.235000</td>\n",
       "      <td>17.949995</td>\n",
       "    </tr>\n",
       "    <tr>\n",
       "      <th>2</th>\n",
       "      <td>2009-04-02</td>\n",
       "      <td>17.875</td>\n",
       "      <td>18.115000</td>\n",
       "      <td>17.699995</td>\n",
       "      <td>17.730005</td>\n",
       "    </tr>\n",
       "    <tr>\n",
       "      <th>3</th>\n",
       "      <td>2009-04-03</td>\n",
       "      <td>17.805</td>\n",
       "      <td>17.870005</td>\n",
       "      <td>17.339995</td>\n",
       "      <td>17.470000</td>\n",
       "    </tr>\n",
       "    <tr>\n",
       "      <th>4</th>\n",
       "      <td>2009-04-06</td>\n",
       "      <td>17.475</td>\n",
       "      <td>17.735000</td>\n",
       "      <td>17.339995</td>\n",
       "      <td>17.560000</td>\n",
       "    </tr>\n",
       "  </tbody>\n",
       "</table>\n",
       "</div>"
      ],
      "text/plain": [
       "         date    open       high        low      close\n",
       "0  2009-03-31  17.375  17.870005  17.110000  17.725000\n",
       "1  2009-04-01  17.295  17.970000  17.235000  17.949995\n",
       "2  2009-04-02  17.875  18.115000  17.699995  17.730005\n",
       "3  2009-04-03  17.805  17.870005  17.339995  17.470000\n",
       "4  2009-04-06  17.475  17.735000  17.339995  17.560000"
      ]
     },
     "execution_count": 24,
     "metadata": {},
     "output_type": "execute_result"
    }
   ],
   "source": [
    "azn.head()"
   ]
  },
  {
   "cell_type": "code",
   "execution_count": 26,
   "metadata": {},
   "outputs": [],
   "source": [
    "#Export data\n",
    "\n",
    "azn.to_csv('data/AZN_1D_CLEANED.csv')"
   ]
  }
 ],
 "metadata": {
  "kernelspec": {
   "display_name": "Python 3",
   "language": "python",
   "name": "python3"
  },
  "language_info": {
   "codemirror_mode": {
    "name": "ipython",
    "version": 3
   },
   "file_extension": ".py",
   "mimetype": "text/x-python",
   "name": "python",
   "nbconvert_exporter": "python",
   "pygments_lexer": "ipython3",
   "version": "3.8.3"
  }
 },
 "nbformat": 4,
 "nbformat_minor": 4
}
